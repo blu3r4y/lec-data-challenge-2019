{
 "cells": [
  {
   "cell_type": "code",
   "execution_count": null,
   "metadata": {},
   "outputs": [],
   "source": [
    "import matplotlib\n",
    "import sklearn.metrics\n",
    "import sklearn.linear_model\n",
    "\n",
    "import numpy as np\n",
    "import matplotlib.pyplot as plt\n",
    "import bootstrapped.bootstrap as bs\n",
    "\n",
    "%matplotlib inline"
   ]
  },
  {
   "cell_type": "code",
   "execution_count": null,
   "metadata": {},
   "outputs": [],
   "source": [
    "matplotlib.rcParams['figure.figsize'] = (12, 8)"
   ]
  },
  {
   "cell_type": "code",
   "execution_count": null,
   "metadata": {},
   "outputs": [],
   "source": [
    "# generate data: part of sine function with random noise\n",
    "x = np.array([i * np.pi / 180 for i in range(90, 330, 4)])\n",
    "y = np.sin(x) + np.random.normal(0, 0.2, len(x))\n",
    "\n",
    "# multiple degrees\n",
    "X = np.column_stack([x**i for i in range(10)])\n",
    "\n",
    "plt.plot(x, y, '.')\n",
    "plt.show()"
   ]
  },
  {
   "cell_type": "code",
   "execution_count": null,
   "metadata": {},
   "outputs": [],
   "source": [
    "ridge = sklearn.linear_model.Ridge(alpha=1e5)\n",
    "model = ridge.fit(X, y)\n",
    "\n",
    "def _ridge_predict_error(indexes):\n",
    "    y_true, y_pred = y[indexes], model.predict(X[indexes, :])\n",
    "    # return sklearn.metrics.mean_absolute_error(y_true, y_pred)\n",
    "    return np.percentile(np.abs(y_true - y_pred), q=95)\n",
    "    \n",
    "def _ridge_predict_error_bootstrap(indexes):\n",
    "    if indexes.ndim == 1:\n",
    "        return [_ridge_predict_error(indexes)]    \n",
    "    return [_ridge_predict_error(i) for i in indexes]\n",
    "\n",
    "# do bootstrap to get confidence interval\n",
    "indexer = np.arange(X.shape[0])\n",
    "ci = bs.bootstrap(indexer, stat_func=_ridge_predict_error_bootstrap, alpha=0.01)\n",
    "\n",
    "print(\"intercept: \", model.intercept_)\n",
    "print(\"weights: \", model.coef_)\n",
    "print(\"error confidence interval:\", (ci.lower_bound, ci.upper_bound))\n",
    "\n",
    "# prediction\n",
    "pred = model.predict(X)\n",
    "\n",
    "plt.plot(x, y, '.')\n",
    "plt.plot(x, pred)\n",
    "plt.fill_between(x, pred - ci.lower_bound, pred + ci.lower_bound, color=\"orange\", alpha=0.2)\n",
    "plt.fill_between(x, pred - ci.upper_bound, pred + ci.upper_bound, color=\"orange\", alpha=0.2)\n",
    "plt.show()"
   ]
  }
 ],
 "metadata": {
  "kernelspec": {
   "display_name": "Python 3",
   "language": "python",
   "name": "python3"
  },
  "language_info": {
   "codemirror_mode": {
    "name": "ipython",
    "version": 3
   },
   "file_extension": ".py",
   "mimetype": "text/x-python",
   "name": "python",
   "nbconvert_exporter": "python",
   "pygments_lexer": "ipython3",
   "version": "3.6.6"
  }
 },
 "nbformat": 4,
 "nbformat_minor": 4
}
